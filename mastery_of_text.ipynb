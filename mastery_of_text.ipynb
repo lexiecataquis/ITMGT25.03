{
 "cells": [
  {
   "cell_type": "code",
   "execution_count": 29,
   "id": "0c20c847-214c-4afd-9b4c-5c2e0c4b38ac",
   "metadata": {},
   "outputs": [
    {
     "name": "stdout",
     "output_type": "stream",
     "text": [
      "Number of lines: 99968\n",
      "Number of words: 824538\n",
      "Frequency of \"apostle\": 41\n",
      "Most common word: the\n"
     ]
    }
   ],
   "source": [
    "import urllib.request\n",
    "\n",
    "url = 'https://www.gutenberg.org/cache/epub/10/pg10.txt'\n",
    "data = urllib.request.urlopen(url)\n",
    "\n",
    "#converting file to string\n",
    "pg10 = data.read().decode('utf-8')\n",
    "words = pg10.split() #for reference in each question\n",
    "\n",
    "#counting the number of lines in the string\n",
    "num_lines = pg10.count('\\n')\n",
    "print('Number of lines: ' + str(num_lines))\n",
    "\n",
    "#counting the number of words in the string\n",
    "num_words = len(words)\n",
    "print('Number of words: ' + str(num_words))\n",
    "\n",
    "#frequency of \"apostle\" in the string, ignoring capitalization\n",
    "reference_word1 = \"apostle\" \n",
    "reference_word2 = \"Apostle\"\n",
    "freq1 = words.count(reference_word1)\n",
    "freq2 = words.count(reference_word2)\n",
    "num_apostle = freq1 + freq2\n",
    "print('Frequency of \"apostle\": ' + str(num_apostle))\n",
    "\n",
    "#most common word in the string\n",
    "word_count = {}\n",
    "for word in words:\n",
    "    if word in word_count:\n",
    "        word_count[word] += 1\n",
    "    else:\n",
    "        word_count[word] = 1\n",
    "\n",
    "most_common_word = max(word_count, key=word_count.get)\n",
    "print('Most common word: ' + str(most_common_word))\n"
   ]
  },
  {
   "cell_type": "code",
   "execution_count": null,
   "id": "2e9cde43-f7ae-41de-8557-08ff50767939",
   "metadata": {},
   "outputs": [],
   "source": []
  }
 ],
 "metadata": {
  "kernelspec": {
   "display_name": "Python 3 (ipykernel)",
   "language": "python",
   "name": "python3"
  },
  "language_info": {
   "codemirror_mode": {
    "name": "ipython",
    "version": 3
   },
   "file_extension": ".py",
   "mimetype": "text/x-python",
   "name": "python",
   "nbconvert_exporter": "python",
   "pygments_lexer": "ipython3",
   "version": "3.11.7"
  }
 },
 "nbformat": 4,
 "nbformat_minor": 5
}
