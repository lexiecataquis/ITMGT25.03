{
 "cells": [
  {
   "cell_type": "code",
   "execution_count": 184,
   "id": "5e72df5a-0115-4c96-99d1-2bac36fd67ff",
   "metadata": {},
   "outputs": [],
   "source": [
    "import pandas as pd\n",
    "import numpy as np\n",
    "import matplotlib.pyplot as plt"
   ]
  },
  {
   "cell_type": "code",
   "execution_count": 259,
   "id": "41fb8208-96ff-4b31-a620-38fddfd9a191",
   "metadata": {},
   "outputs": [],
   "source": [
    "invoice = pd.read_csv(\"/Users/joiecataquis/Downloads/fct_invoice.csv\")\n",
    "customers = pd.read_json(\"/Users/joiecataquis/Downloads/dim_customer.json\")"
   ]
  },
  {
   "cell_type": "code",
   "execution_count": 134,
   "id": "d824cc00-fdca-4604-b801-1027c79fcbc9",
   "metadata": {},
   "outputs": [
    {
     "data": {
      "text/plain": [
       "Index(['invoice_no', 'customer_id', 'category', 'quantity', 'price',\n",
       "       'payment_method', 'invoice_date', 'shopping_mall'],\n",
       "      dtype='object')"
      ]
     },
     "execution_count": 134,
     "metadata": {},
     "output_type": "execute_result"
    }
   ],
   "source": [
    "invoice.columns"
   ]
  },
  {
   "cell_type": "markdown",
   "id": "35f9e1a1-5c5e-478d-b97b-8a91c0751886",
   "metadata": {},
   "source": [
    " "
   ]
  },
  {
   "cell_type": "code",
   "execution_count": 135,
   "id": "5297a369-3988-4a2c-9061-dfac65bf092a",
   "metadata": {},
   "outputs": [
    {
     "data": {
      "text/plain": [
       "Index(['age', 'first_name', 'gender', 'id', 'last_name'], dtype='object')"
      ]
     },
     "execution_count": 135,
     "metadata": {},
     "output_type": "execute_result"
    }
   ],
   "source": [
    "customers.columns"
   ]
  },
  {
   "cell_type": "markdown",
   "id": "772ad69f-1d95-4206-a3b3-d38eea38c69b",
   "metadata": {},
   "source": [
    "EASY 1\n",
    "- How many unique customers are in the dataset?"
   ]
  },
  {
   "cell_type": "code",
   "execution_count": 111,
   "id": "c76fc592-f855-4726-879e-2b9a492161ac",
   "metadata": {},
   "outputs": [
    {
     "name": "stdout",
     "output_type": "stream",
     "text": [
      "There are 5191 unique customers.\n"
     ]
    }
   ],
   "source": [
    "unique = customers.id.nunique()\n",
    "\n",
    "print(f\"There are {unique} unique customers.\")"
   ]
  },
  {
   "cell_type": "markdown",
   "id": "be0d0632-f7ed-47fc-a638-888fd279f340",
   "metadata": {},
   "source": [
    " "
   ]
  },
  {
   "cell_type": "markdown",
   "id": "b113d46f-6078-459c-a5ef-6823f66cd035",
   "metadata": {},
   "source": [
    "EASY 2\n",
    "- What are the different categories of products available? How many unique categories are there?"
   ]
  },
  {
   "cell_type": "code",
   "execution_count": 183,
   "id": "cf3dd711-33c5-4f1f-949a-6da0478e0763",
   "metadata": {},
   "outputs": [
    {
     "name": "stdout",
     "output_type": "stream",
     "text": [
      "The categories of products available are: \n",
      "['Clothing', 'Shoes', 'Books', 'Cosmetics', 'Food & Beverage', 'Toys', 'Technology', 'Souvenir']\n",
      "\n",
      "There are 8 unique categories.\n"
     ]
    }
   ],
   "source": [
    "categories = list(invoice.category.unique())\n",
    "print(f\"The categories of products available are: \")\n",
    "print(categories)\n",
    "unique_cat = invoice.category.nunique()\n",
    "print(f\"\\nThere are {unique_cat} unique categories.\")"
   ]
  },
  {
   "cell_type": "markdown",
   "id": "9a786961-487d-4ebb-8927-700d941f5a82",
   "metadata": {},
   "source": [
    " "
   ]
  },
  {
   "cell_type": "markdown",
   "id": "9cf0edfd-0e6d-41d5-b572-c58f388acfe8",
   "metadata": {},
   "source": [
    "EASY 3\n",
    "- Which payment method is the most popular? How many times was it used?"
   ]
  },
  {
   "cell_type": "code",
   "execution_count": 123,
   "id": "1e64d0d2-d322-46ce-b23f-45d744b84538",
   "metadata": {},
   "outputs": [
    {
     "name": "stdout",
     "output_type": "stream",
     "text": [
      "The most popular payment method is: Cash\n",
      "This payment method was used 44447 times.\n"
     ]
    }
   ],
   "source": [
    "payment_method = invoice.groupby(\"payment_method\")['payment_method'].count()\n",
    "pop_payment = payment_method.idxmax()\n",
    "print(f\"The most popular payment method is: {pop_payment}\")\n",
    "\n",
    "freq = invoice.payment_method.value_counts()['Cash']\n",
    "print(f\"This payment method was used {freq} times.\")"
   ]
  },
  {
   "cell_type": "markdown",
   "id": "dafa6372-0b8e-48c8-aa28-6f93120b41e1",
   "metadata": {},
   "source": [
    "\n"
   ]
  },
  {
   "cell_type": "markdown",
   "id": "a5c96358-c4a1-4d82-b076-7da7949b87d1",
   "metadata": {},
   "source": [
    "MEDIUM 1\n",
    "- What are the three most popular categories, by total sales?"
   ]
  },
  {
   "cell_type": "code",
   "execution_count": 175,
   "id": "276558a6-fc30-4d17-a843-a5f40e483051",
   "metadata": {},
   "outputs": [
    {
     "name": "stdout",
     "output_type": "stream",
     "text": [
      "The top 3 most popular categories by total sales are ['Clothing', 'Shoes', 'Technology'].\n",
      "Their total sales respectively are [113996791.03999999, 66553451.47, 57862350.0].\n"
     ]
    }
   ],
   "source": [
    "invoice['sales'] = invoice['quantity'] * invoice['price'] \n",
    "category_sales = invoice.groupby('category')['sales'].sum().nlargest(3)\n",
    "\n",
    "top_categories = list(category_sales.index)\n",
    "top_category_sales = list(category_sales)\n",
    "\n",
    "print(f\"The top 3 most popular categories by total sales are {top_categories}.\")\n",
    "print(f\"Their total sales respectively are {top_category_sales}.\")"
   ]
  },
  {
   "cell_type": "markdown",
   "id": "0da0d45d-db58-476b-84b6-9b8c55473d93",
   "metadata": {},
   "source": [
    " "
   ]
  },
  {
   "cell_type": "markdown",
   "id": "aa502817-b738-4d56-a76f-aeff06cf468d",
   "metadata": {},
   "source": [
    "MEDIUM 2\n",
    "- What are the total sales attributed to customers over the age of 45?"
   ]
  },
  {
   "cell_type": "code",
   "execution_count": 271,
   "id": "afdceb99-43b7-4ff3-9df3-5ac211088512",
   "metadata": {},
   "outputs": [
    {
     "name": "stdout",
     "output_type": "stream",
     "text": [
      "The total sales from customers over the age of 45 is 82039768.14999999\n"
     ]
    }
   ],
   "source": [
    "merged_data = pd.merge(customers, invoice, left_on='id', right_on='customer_id')\n",
    "\n",
    "qty = merged_data['quantity']\n",
    "price = merged_data['price'] \n",
    "\n",
    "merged_data['total_sales'] = qty * price\n",
    "over_age = merged_data.loc[merged_data['age'] > 45]\n",
    "\n",
    "total_sales = over_age['total_sales'].sum()\n",
    "print(f\"The total sales from customers over the age of 45 is {total_sales}\")"
   ]
  },
  {
   "cell_type": "markdown",
   "id": "48ed1f9e-ca37-4276-b14a-cf9f318d8fdd",
   "metadata": {},
   "source": [
    " "
   ]
  },
  {
   "cell_type": "markdown",
   "id": "cfc7170c-f6ca-463b-88d8-27576a980def",
   "metadata": {},
   "source": [
    "MEDIUM 3\n",
    "- How is the data distributed across different invoice dates? Are there any seasonal trends or patterns? (Use a graph for this.)"
   ]
  },
  {
   "cell_type": "code",
   "execution_count": 226,
   "id": "3231c004-a832-473a-9bec-00dbdcc35603",
   "metadata": {},
   "outputs": [
    {
     "data": {
      "image/png": "[encoded data removed]",
      "text/plain": [
       "<Figure size 1000x600 with 1 Axes>"
      ]
     },
     "metadata": {},
     "output_type": "display_data"
    },
    {
     "name": "stdout",
     "output_type": "stream",
     "text": [
      "The graph above shows the trend per month, no matter the year, for total sales from the invoices.\n"
     ]
    }
   ],
   "source": [
    "invoice['invoice_date'] = pd.to_datetime(invoice['invoice_date'], format='%d/%m/%Y')\n",
    "invoice['sales'] = invoice['quantity'] * invoice['price']\n",
    "invoice['month'] = invoice['invoice_date'].dt.month\n",
    "monthly_sales = invoice.groupby('month')['sales'].sum()\n",
    "\n",
    "plt.figure(figsize=(10, 6))\n",
    "monthly_sales.plot(kind='line', marker='o', linestyle='-', color='m')\n",
    "plt.title('Monthly Invoice Sales Trend')\n",
    "plt.xlabel('Month')\n",
    "plt.ylabel('Total Sales')\n",
    "plt.grid(True)\n",
    "plt.xticks(range(1, 13), ['Jan', 'Feb', 'Mar', 'Apr', 'May', 'Jun', 'Jul', 'Aug', 'Sep', 'Oct', 'Nov', 'Dec'])\n",
    "plt.tight_layout()\n",
    "plt.show()\n",
    "\n",
    "print(f\"The graph above shows the trend per month, no matter the year, for total sales from the invoices.\")"
   ]
  },
  {
   "cell_type": "markdown",
   "id": "74f64817-2c9d-40a1-ad3e-59e2f7764b53",
   "metadata": {},
   "source": [
    " "
   ]
  },
  {
   "cell_type": "markdown",
   "id": "0c8dffdb-3328-4af9-a98b-b3da432ddd53",
   "metadata": {},
   "source": [
    "HARD\n",
    "- Create a pivot table showing the breakdown of sales across these dimensions, in this order: category, decade age range (e.g., 10-19, 20-29, and so forth)."
   ]
  },
  {
   "cell_type": "code",
   "execution_count": 270,
   "id": "2176189f-f945-4edf-8049-1c136f28e74b",
   "metadata": {},
   "outputs": [
    {
     "name": "stdout",
     "output_type": "stream",
     "text": [
      "age                   10-19       20-29        30-39        40-49       50-59  \\\n",
      "category                                                                        \n",
      "Books               7923.45    76022.70     87157.95     87885.15    72735.15   \n",
      "Clothing         1144505.12  9959955.28  11540776.72  11447451.84  9943150.80   \n",
      "Cosmetics          65991.18   583796.28    731310.76    682396.78   563954.20   \n",
      "Food & Beverage     9434.92    68633.29     87911.07     91922.48    72132.16   \n",
      "Shoes             634379.69  5571978.28   7303468.73   7163028.95  5778436.76   \n",
      "Souvenir            6181.71    54438.93     63834.66     68444.55    54966.78   \n",
      "Technology        739200.00  5053650.00   6298950.00   6082650.00  4458300.00   \n",
      "Toys               35911.68   366392.32    424704.00    408253.44   330516.48   \n",
      "\n",
      "age                    60-69       70-79       80-89  90-99  100+  \n",
      "category                                                           \n",
      "Books               81885.75    57706.35    29224.35    0.0   0.0  \n",
      "Clothing         11083154.72  8061649.20  4812382.96    0.0   0.0  \n",
      "Cosmetics          669832.84   443722.58   274495.66    0.0   0.0  \n",
      "Food & Beverage     81488.63    58256.97    33879.94    0.0   0.0  \n",
      "Shoes             6131336.72  4675324.30  2827400.87    0.0   0.0  \n",
      "Souvenir            57418.35    38216.34    26662.29    0.0   0.0  \n",
      "Technology        5421150.00  3808350.00  2134650.00    0.0   0.0  \n",
      "Toys               370693.12   293888.00   162856.96    0.0   0.0  \n"
     ]
    }
   ],
   "source": [
    "merged_data = pd.merge(customers, invoice, left_on='id', right_on='customer_id')\n",
    "\n",
    "qty = merged_data['quantity']\n",
    "price = merged_data['price'] \n",
    "merged_data['total_sales'] = qty * price\n",
    "\n",
    "merged_data['age'] = pd.to_numeric(merged_data['age'], errors='coerce')\n",
    "merged_data['age'].fillna(-1, inplace=True)\n",
    "\n",
    "bins = [0, 19, 29, 39, 49, 59, 69, 79, 89, 99, float('inf')]\n",
    "labels = ['10-19', '20-29', '30-39', '40-49', '50-59', '60-69', '70-79', '80-89', '90-99', '100+']\n",
    "\n",
    "merged_data['age'] = pd.cut(merged_data['age'], bins=bins, labels=labels, right=False)\n",
    "\n",
    "pivot_table = pd.pivot_table(merged_data, index=['category'], columns='age', values='total_sales', aggfunc='sum')\n",
    "print(pivot_table)"
   ]
  }
 ],
 "metadata": {
  "kernelspec": {
   "display_name": "Python 3 (ipykernel)",
   "language": "python",
   "name": "python3"
  },
  "language_info": {
   "codemirror_mode": {
    "name": "ipython",
    "version": 3
   },
   "file_extension": ".py",
   "mimetype": "text/x-python",
   "name": "python",
   "nbconvert_exporter": "python",
   "pygments_lexer": "ipython3",
   "version": "3.11.7"
  }
 },
 "nbformat": 4,
 "nbformat_minor": 5
}
